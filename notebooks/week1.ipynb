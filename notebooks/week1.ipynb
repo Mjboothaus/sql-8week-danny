{
 "cells": [
  {
   "cell_type": "markdown",
   "metadata": {},
   "source": [
    "## Week 1 - Data with Danny"
   ]
  },
  {
   "cell_type": "raw",
   "metadata": {
    "vscode": {
     "languageId": "raw"
    }
   },
   "source": [
    "---\n",
    "author: Michael J. Booth\n",
    "format:\n",
    "  html:\n",
    "    code-tools: true\n",
    "    code-fold: true\n",
    "    toc: true\n",
    "---"
   ]
  },
  {
   "cell_type": "code",
   "execution_count": null,
   "metadata": {},
   "outputs": [],
   "source": [
    "# | echo: false\n",
    "\n",
    "from pathlib import Path\n",
    "\n",
    "from IPython.display import Markdown, display\n",
    "from sql_8week_danny.sql_engine import DuckDBEngine"
   ]
  },
  {
   "cell_type": "code",
   "execution_count": null,
   "metadata": {},
   "outputs": [],
   "source": [
    "# | echo: false\n",
    "\n",
    "SQL_DIR = Path.cwd().parent / \"sql\"\n",
    "DATA_DIR = Path.cwd().parent / \"data\"\n",
    "\n",
    "TABLES_SQL = SQL_DIR / \"week1.sql\"\n",
    "DUCK_DB = DATA_DIR / \"week1_duckdb.db\""
   ]
  },
  {
   "cell_type": "code",
   "execution_count": null,
   "metadata": {},
   "outputs": [],
   "source": [
    "# | echo: false\n",
    "\n",
    "\n",
    "def create_database(persist=True):\n",
    "    if persist and DUCK_DB:\n",
    "        db = DuckDBEngine(\n",
    "            db_path=str(DUCK_DB), rm_db=True\n",
    "        )  # rm the db if it exists to avoid table creation errors\n",
    "    else:\n",
    "        db = DuckDBEngine()\n",
    "    sql = db.execute_sql_file(TABLES_SQL)  # create the tables\n",
    "    return db, sql"
   ]
  },
  {
   "cell_type": "code",
   "execution_count": null,
   "metadata": {},
   "outputs": [],
   "source": [
    "db, create_sql = create_database(persist=True)"
   ]
  },
  {
   "cell_type": "markdown",
   "metadata": {},
   "source": [
    "```mermaid\n",
    "erDiagram\n",
    "    SALES {\n",
    "        varchar customer_id \"Customer ID\"\n",
    "        date order_date \"Order date\"\n",
    "        integer product_id \"Product ID\"\n",
    "    }\n",
    "\n",
    "    MENU {\n",
    "        integer product_id PK \"Unique product ID\"\n",
    "        varchar product_name \"Name of the product\"\n",
    "        integer price \"Price of the product\"\n",
    "    }\n",
    "\n",
    "    MEMBERS {\n",
    "        varchar customer_id PK \"Customer ID\"\n",
    "        date join_date \"Membership join date\"\n",
    "    }\n",
    "\n",
    "    SALES ||--|| MENU : \"contains\"\n",
    "    SALES }|--|| MEMBERS : \"places\"\n",
    "```"
   ]
  },
  {
   "cell_type": "code",
   "execution_count": null,
   "metadata": {},
   "outputs": [],
   "source": [
    "db.table_names"
   ]
  },
  {
   "cell_type": "code",
   "execution_count": null,
   "metadata": {},
   "outputs": [],
   "source": [
    "# | label: display_tables_sql\n",
    "# | echo: false\n",
    "\n",
    "\n",
    "def display_sql(sql):\n",
    "    display(Markdown(f\"```\\n{sql}\"))"
   ]
  },
  {
   "cell_type": "code",
   "execution_count": null,
   "metadata": {},
   "outputs": [],
   "source": [
    "display_sql(create_sql)"
   ]
  },
  {
   "cell_type": "code",
   "execution_count": null,
   "metadata": {},
   "outputs": [],
   "source": [
    "tables_df = db.load_tables_to_df()"
   ]
  },
  {
   "cell_type": "markdown",
   "metadata": {},
   "source": [
    "#### Table information"
   ]
  },
  {
   "cell_type": "code",
   "execution_count": null,
   "metadata": {},
   "outputs": [],
   "source": [
    "df = db.display_all_table_info(display_tables=True)"
   ]
  },
  {
   "cell_type": "code",
   "execution_count": null,
   "metadata": {},
   "outputs": [],
   "source": [
    "for table in db.table_names:\n",
    "    display(Markdown(f\"# {table}\"))\n",
    "    display(df[table].head())"
   ]
  },
  {
   "cell_type": "code",
   "execution_count": null,
   "metadata": {},
   "outputs": [],
   "source": [
    "db.query(\"SELECT COUNT(*) FROM members\")"
   ]
  },
  {
   "cell_type": "code",
   "execution_count": null,
   "metadata": {},
   "outputs": [],
   "source": [
    "# db.close()  # required to remove the DB file lock (.wal)"
   ]
  },
  {
   "cell_type": "code",
   "execution_count": null,
   "metadata": {},
   "outputs": [],
   "source": [
    "table_info_df = db.query(\n",
    "    \"\"\"\n",
    "    PRAGMA show_tables_expanded; \n",
    "    \"\"\"\n",
    ")\n",
    "\n",
    "\n",
    "# PRAGMA table_info('table_name');\n",
    "# CALL pragma_table_info('table_name'); same info as show_tables_expanded I think\n",
    "# cid INTEGER,        -- cid of the column\n",
    "# name VARCHAR,       -- name of the column\n",
    "# type VARCHAR,       -- type of the column\n",
    "# notnull BOOLEAN,    -- if the column is marked as NOT NULL\n",
    "# dflt_value VARCHAR, -- default value of the column, or NULL if not specified\n",
    "# pk BOOLEAN          -- part of the primary key or not\n",
    "\n",
    "# SET database_size;  # database size info\n",
    "# CALL pragma_database_size();\n",
    "\n",
    "# PRAGMA storage_info('table_name'); # technical table size etc info\n",
    "# CALL pragma_storage_info('table_name');\n",
    "\n",
    "# PRAGMA show_databases; get database names\n",
    "\n",
    "# PRAGMA version; DuckDB version info\n",
    "# CALL pragma_version();\n",
    "# PRAGMA user_agent;"
   ]
  },
  {
   "cell_type": "code",
   "execution_count": null,
   "metadata": {},
   "outputs": [],
   "source": [
    "table_info_df"
   ]
  },
  {
   "cell_type": "code",
   "execution_count": null,
   "metadata": {},
   "outputs": [],
   "source": [
    "table_info_df[\"database\"].unique().tolist()[0]"
   ]
  },
  {
   "cell_type": "code",
   "execution_count": null,
   "metadata": {},
   "outputs": [],
   "source": [
    "table_info_df[\"schema\"].unique().tolist()[0]"
   ]
  },
  {
   "cell_type": "code",
   "execution_count": null,
   "metadata": {},
   "outputs": [],
   "source": [
    "table_info_df[\"name\"].unique().tolist()"
   ]
  },
  {
   "cell_type": "markdown",
   "metadata": {},
   "source": [
    "#### Case Study Questions\n",
    "\n",
    "Each of the following case study questions can be answered using a single SQL statement:\n"
   ]
  },
  {
   "cell_type": "markdown",
   "metadata": {},
   "source": [
    "##### What is the total amount each customer spent at the restaurant?"
   ]
  },
  {
   "cell_type": "code",
   "execution_count": null,
   "metadata": {},
   "outputs": [],
   "source": [
    "db.query(\n",
    "    \"SELECT customer_id, SUM(price) FROM sales as s JOIN menu as m ON s.product_id = m.product_id GROUP BY customer_id\"\n",
    ")"
   ]
  },
  {
   "cell_type": "markdown",
   "metadata": {},
   "source": [
    "##### How many days has each customer visited the restaurant?"
   ]
  },
  {
   "cell_type": "code",
   "execution_count": null,
   "metadata": {},
   "outputs": [],
   "source": [
    "db.query(\"SELECT customer_id, COUNT(DISTINCT order_date) FROM sales GROUP BY customer_id\")"
   ]
  },
  {
   "cell_type": "markdown",
   "metadata": {},
   "source": [
    "##### What was the first item from the menu purchased by each customer?"
   ]
  },
  {
   "cell_type": "code",
   "execution_count": null,
   "metadata": {},
   "outputs": [],
   "source": [
    "db.query(\"SELECT customer_id, MIN(order_date) FROM sales GROUP BY customer_id\")"
   ]
  },
  {
   "cell_type": "code",
   "execution_count": null,
   "metadata": {},
   "outputs": [],
   "source": [
    "db.query(\n",
    "    \"SELECT customer_id, product_id FROM sales WHERE order_date = '2021-01-01' GROUP BY customer_id, product_id\"\n",
    ")"
   ]
  },
  {
   "cell_type": "markdown",
   "metadata": {},
   "source": [
    "##### What is the most purchased item on the menu and how many times was it purchased by all customers?"
   ]
  },
  {
   "cell_type": "code",
   "execution_count": null,
   "metadata": {},
   "outputs": [],
   "source": [
    "db.query(\n",
    "    \"SELECT product_id, COUNT(product_id) FROM sales GROUP BY product_id ORDER BY COUNT(product_id) DESC\"\n",
    ")"
   ]
  },
  {
   "cell_type": "markdown",
   "metadata": {},
   "source": [
    "##### Which item was the most popular for each customer?"
   ]
  },
  {
   "cell_type": "code",
   "execution_count": null,
   "metadata": {},
   "outputs": [],
   "source": [
    "db.query(\n",
    "    \"SELECT customer_id, product_id, COUNT(product_id) FROM sales GROUP BY customer_id, product_id ORDER BY COUNT(product_id) DESC\"\n",
    ")"
   ]
  },
  {
   "cell_type": "markdown",
   "metadata": {},
   "source": [
    "##### Which item was purchased first by the customer after they became a member?"
   ]
  },
  {
   "cell_type": "code",
   "execution_count": null,
   "metadata": {},
   "outputs": [],
   "source": [
    "db.query(\n",
    "    \"\"\"\n",
    "    SELECT * FROM sales JOIN members on sales.customer_id = members.customer_id  WHERE sales.customer_id = 'A' AND order_date >= join_date ORDER BY order_date LIMIT 1\n",
    "    \"\"\"\n",
    ")"
   ]
  },
  {
   "cell_type": "code",
   "execution_count": null,
   "metadata": {},
   "outputs": [],
   "source": [
    "db.query(\n",
    "    \"\"\"\n",
    "    SELECT * FROM sales JOIN members on sales.customer_id = members.customer_id  WHERE sales.customer_id = 'B' AND order_date >= join_date ORDER BY order_date LIMIT 1\n",
    "    \"\"\"\n",
    ")"
   ]
  },
  {
   "cell_type": "markdown",
   "metadata": {},
   "source": []
  },
  {
   "cell_type": "markdown",
   "metadata": {},
   "source": [
    "##### Which item was purchased just before the customer became a member?"
   ]
  },
  {
   "cell_type": "code",
   "execution_count": null,
   "metadata": {},
   "outputs": [],
   "source": [
    "db.query(\n",
    "    \"\"\"\n",
    "    SELECT * FROM sales JOIN members on sales.customer_id = members.customer_id  WHERE sales.customer_id = 'A' AND order_date < join_date ORDER BY order_date LIMIT 1\n",
    "    \"\"\"\n",
    ")"
   ]
  },
  {
   "cell_type": "code",
   "execution_count": null,
   "metadata": {},
   "outputs": [],
   "source": [
    "db.query(\n",
    "    \"\"\"\n",
    "    SELECT * FROM sales JOIN members on sales.customer_id = members.customer_id  WHERE sales.customer_id = 'B' AND order_date < join_date ORDER BY order_date LIMIT 1\n",
    "    \"\"\"\n",
    ")"
   ]
  },
  {
   "cell_type": "markdown",
   "metadata": {},
   "source": [
    "##### What is the total items and amount spent for each member before they became a member?"
   ]
  },
  {
   "cell_type": "code",
   "execution_count": null,
   "metadata": {},
   "outputs": [],
   "source": [
    "db.query(\n",
    "    \"\"\"\n",
    "    SELECT count(*) FROM sales JOIN members on sales.customer_id = members.customer_id  WHERE sales.customer_id = 'A' AND order_date < join_date\n",
    "    \"\"\"\n",
    ")"
   ]
  },
  {
   "cell_type": "code",
   "execution_count": null,
   "metadata": {},
   "outputs": [],
   "source": [
    "# need to join menu table for this"
   ]
  },
  {
   "cell_type": "code",
   "execution_count": null,
   "metadata": {},
   "outputs": [],
   "source": [
    "db.query(\n",
    "    \"\"\"\n",
    "    SELECT SUM(price) FROM sales JOIN members on sales.customer_id = members.customer_id JOIN menu on menu.product_id = sales.product_id  WHERE sales.customer_id = 'A' AND order_date < join_date\n",
    "    \"\"\"\n",
    ")"
   ]
  },
  {
   "cell_type": "code",
   "execution_count": null,
   "metadata": {},
   "outputs": [],
   "source": [
    "db.query(\n",
    "    \"\"\"\n",
    "    SELECT count(*) FROM sales JOIN members on sales.customer_id = members.customer_id  WHERE sales.customer_id = 'B' AND order_date < join_date\n",
    "    \"\"\"\n",
    ")"
   ]
  },
  {
   "cell_type": "code",
   "execution_count": null,
   "metadata": {},
   "outputs": [],
   "source": [
    "db.query(\n",
    "    \"\"\"\n",
    "    SELECT SUM(price) FROM sales JOIN members on sales.customer_id = members.customer_id JOIN menu on menu.product_id = sales.product_id  WHERE sales.customer_id = 'B' AND order_date < join_date\n",
    "    \"\"\"\n",
    ")"
   ]
  },
  {
   "cell_type": "markdown",
   "metadata": {},
   "source": [
    "##### If each $1 spent equates to 10 points and sushi has a 2x points multiplier - how many points would each customer have?\n"
   ]
  },
  {
   "cell_type": "code",
   "execution_count": null,
   "metadata": {},
   "outputs": [],
   "source": []
  },
  {
   "cell_type": "markdown",
   "metadata": {},
   "source": [
    "##### If each $1 spent equates to 10 points and sushi has a 2x points multiplier - how many points would each customer have?"
   ]
  },
  {
   "cell_type": "code",
   "execution_count": null,
   "metadata": {},
   "outputs": [],
   "source": []
  },
  {
   "cell_type": "markdown",
   "metadata": {},
   "source": [
    "In the first week after a customer joins the program (including their join date) they earn 2x points on all items, not just sushi - how many points do customer A and B have at the end of January?"
   ]
  },
  {
   "cell_type": "code",
   "execution_count": null,
   "metadata": {},
   "outputs": [],
   "source": []
  },
  {
   "cell_type": "markdown",
   "metadata": {},
   "source": []
  }
 ],
 "metadata": {
  "kernelspec": {
   "display_name": ".venv",
   "language": "python",
   "name": "python3"
  },
  "language_info": {
   "codemirror_mode": {
    "name": "ipython",
    "version": 3
   },
   "file_extension": ".py",
   "mimetype": "text/x-python",
   "name": "python",
   "nbconvert_exporter": "python",
   "pygments_lexer": "ipython3",
   "version": "3.11.7"
  }
 },
 "nbformat": 4,
 "nbformat_minor": 2
}

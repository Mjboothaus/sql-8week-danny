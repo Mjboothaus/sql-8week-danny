{
 "cells": [
  {
   "cell_type": "raw",
   "metadata": {
    "vscode": {
     "languageId": "raw"
    }
   },
   "source": [
    "---\n",
    "author: Michael J. Booth\n",
    "format:\n",
    "  html:\n",
    "    code-tools: true\n",
    "    code-fold: false\n",
    "    toc: true\n",
    "---"
   ]
  },
  {
   "cell_type": "markdown",
   "metadata": {},
   "source": [
    "## Week 1 - Data with Danny\n",
    "\n",
    "`DuckDB` / `SQL` only version of notebook"
   ]
  },
  {
   "cell_type": "code",
   "execution_count": null,
   "metadata": {},
   "outputs": [],
   "source": [
    "# | echo: false\n",
    "\n",
    "from pathlib import Path\n",
    "from typing import Optional, Union\n",
    "\n",
    "import duckdb\n",
    "from loguru import logger"
   ]
  },
  {
   "cell_type": "markdown",
   "metadata": {},
   "source": [
    "### Setup database"
   ]
  },
  {
   "cell_type": "code",
   "execution_count": null,
   "metadata": {},
   "outputs": [],
   "source": [
    "# | echo: false\n",
    "\n",
    "\n",
    "def create_db(\n",
    "    create_table_sql: Union[str, Path], db_path: Optional[Path] = None\n",
    ") -> duckdb.DuckDBPyConnection:\n",
    "    \"\"\"\n",
    "    Initialises a DuckDB connection (optionally persisting to file) and sets up the database schema from the provided SQL.\n",
    "\n",
    "    Args:\n",
    "    create_table_sql (Union[str, Path]): SQL commands as a string or path to an SQL file that initializes the database schema.\n",
    "    db_path (Optional[Path]): Path to the database file. If None, an in-memory database is created.\n",
    "\n",
    "    Returns:\n",
    "    duckdb.DuckDBPyConnection: A connection object to the DuckDB database.\n",
    "    \"\"\"\n",
    "    db = duckdb.connect(str(db_path) if db_path else \"\")\n",
    "    db_type = \"persisted\" if db_path else \"in-memory database\"\n",
    "    logger.info(f\"DuckDB: {db_type} {f'- {db_path.relative_to(Path.cwd().parent)}' if db_path else ''}\")\n",
    "    if isinstance(create_table_sql, Path) and create_table_sql.exists():\n",
    "        with open(create_table_sql, \"r\") as sql_file:\n",
    "            sql_text = sql_file.read()\n",
    "        logger.info(f\"Executing SQL from file: {Path(create_table_sql).relative_to(Path.cwd().parent)}\")\n",
    "    else:\n",
    "        sql_text = create_table_sql\n",
    "        logger.info(f\"Executing SQL: {create_table_sql}\")\n",
    "    db.query(sql_text)\n",
    "    return db"
   ]
  },
  {
   "cell_type": "code",
   "execution_count": null,
   "metadata": {},
   "outputs": [],
   "source": [
    "# | echo: false\n",
    "\n",
    "DATA_DIR = Path.cwd().parent / \"data\"\n",
    "SQL_DIR = Path.cwd().parent / \"sql\"\n",
    "WEEK_DIR = SQL_DIR / \"week1\"\n",
    "\n",
    "\n",
    "TABLES_SQL = SQL_DIR / \"week1_tables.sql\""
   ]
  },
  {
   "cell_type": "code",
   "execution_count": null,
   "metadata": {},
   "outputs": [],
   "source": [
    "# | echo: false\n",
    "\n",
    "db = create_db(create_table_sql=TABLES_SQL)  # in-memory database or\n",
    "# db = create_db(create_table_sql=TABLES_SQL, db_path=DATA_DIR / \"week1.ddb\")   # persisted\n",
    "\n",
    "assert db  # confirm DuckDB database created before proceeding"
   ]
  },
  {
   "cell_type": "code",
   "execution_count": null,
   "metadata": {},
   "outputs": [],
   "source": [
    "db.query(\"PRAGMA version;\")"
   ]
  },
  {
   "cell_type": "markdown",
   "metadata": {},
   "source": [
    "### Schema ERD"
   ]
  },
  {
   "cell_type": "markdown",
   "metadata": {},
   "source": [
    "```mermaid\n",
    "erDiagram\n",
    "    SALES {\n",
    "        varchar customer_id \"Customer ID\"\n",
    "        date order_date \"Order date\"\n",
    "        integer product_id \"Product ID\"\n",
    "    }\n",
    "\n",
    "    MENU {\n",
    "        integer product_id PK \"Unique product ID\"\n",
    "        varchar product_name \"Name of the product\"\n",
    "        integer price \"Price of the product\"\n",
    "    }\n",
    "\n",
    "    MEMBERS {\n",
    "        varchar customer_id PK \"Customer ID\"\n",
    "        date join_date \"Membership join date\"\n",
    "    }\n",
    "\n",
    "    SALES ||--|| MENU : \"contains\"\n",
    "    SALES }|--|| MEMBERS : \"places\"\n",
    "```"
   ]
  },
  {
   "cell_type": "markdown",
   "metadata": {},
   "source": [
    "### Table information"
   ]
  },
  {
   "cell_type": "code",
   "execution_count": null,
   "metadata": {},
   "outputs": [],
   "source": [
    "db.query(\"SHOW TABLES;\").df()  # .df() method to return as dataframe"
   ]
  },
  {
   "cell_type": "code",
   "execution_count": null,
   "metadata": {},
   "outputs": [],
   "source": [
    "db.query(\"PRAGMA show_tables_expanded\").df()  # Display detailed table info"
   ]
  },
  {
   "cell_type": "markdown",
   "metadata": {},
   "source": [
    "### Simple example queries"
   ]
  },
  {
   "cell_type": "code",
   "execution_count": null,
   "metadata": {},
   "outputs": [],
   "source": [
    "db.query(\"SELECT * FROM members\").df()"
   ]
  },
  {
   "cell_type": "code",
   "execution_count": null,
   "metadata": {},
   "outputs": [],
   "source": [
    "db.query(\"SELECT COUNT(*) FROM members\").df().iloc[0, 0]"
   ]
  },
  {
   "cell_type": "markdown",
   "metadata": {},
   "source": [
    "### Case Study Questions\n",
    "\n",
    "Each of the following case study questions can be answered using a single SQL statement:\n"
   ]
  },
  {
   "cell_type": "markdown",
   "metadata": {},
   "source": [
    "##### 1. What is the total amount each customer spent at the restaurant?"
   ]
  },
  {
   "cell_type": "code",
   "execution_count": null,
   "metadata": {},
   "outputs": [],
   "source": [
    "!cat $WEEK_DIR/q1.sql"
   ]
  },
  {
   "cell_type": "code",
   "execution_count": null,
   "metadata": {},
   "outputs": [],
   "source": [
    "db.query(\n",
    "    \"\"\"\n",
    "    SELECT customer_id, SUM(price) as total_amount_spent\n",
    "    FROM sales as s\n",
    "        JOIN menu as m ON s.product_id = m.product_id\n",
    "    GROUP BY\n",
    "        customer_id\n",
    "\"\"\"\n",
    ").df()"
   ]
  },
  {
   "cell_type": "markdown",
   "metadata": {},
   "source": [
    "##### 2. How many days has each customer visited the restaurant?"
   ]
  },
  {
   "cell_type": "code",
   "execution_count": null,
   "metadata": {},
   "outputs": [],
   "source": [
    "!cat $WEEK_DIR/q2.sql"
   ]
  },
  {
   "cell_type": "code",
   "execution_count": null,
   "metadata": {},
   "outputs": [],
   "source": [
    "db.query(\n",
    "    \"\"\"\n",
    "    SELECT customer_id, COUNT(DISTINCT order_date) as n_visit\n",
    "    FROM sales\n",
    "    GROUP BY\n",
    "        customer_id\n",
    "\"\"\"\n",
    ").df()"
   ]
  },
  {
   "cell_type": "markdown",
   "metadata": {},
   "source": [
    "##### 3. What was the first item from the menu purchased by each customer?"
   ]
  },
  {
   "cell_type": "code",
   "execution_count": null,
   "metadata": {},
   "outputs": [],
   "source": [
    "!cat $WEEK_DIR/q3.sql"
   ]
  },
  {
   "cell_type": "code",
   "execution_count": null,
   "metadata": {},
   "outputs": [],
   "source": [
    "db.query(\n",
    "    \"\"\"\n",
    "    SELECT customer_id, MIN(order_date) as first_order_date\n",
    "    FROM sales\n",
    "    GROUP BY\n",
    "        customer_id\n",
    "\"\"\"\n",
    ").df()"
   ]
  },
  {
   "cell_type": "code",
   "execution_count": null,
   "metadata": {},
   "outputs": [],
   "source": [
    "db.query(\n",
    "    \"\"\"\n",
    "    SELECT customer_id, product_id FROM sales \n",
    "         WHERE order_date = '2021-01-01' \n",
    "         GROUP BY customer_id, product_id\n",
    "\"\"\"\n",
    ").df()"
   ]
  },
  {
   "cell_type": "markdown",
   "metadata": {},
   "source": [
    "##### 4. What is the most purchased item on the menu and how many times was it purchased by all customers?"
   ]
  },
  {
   "cell_type": "code",
   "execution_count": null,
   "metadata": {},
   "outputs": [],
   "source": [
    "!cat $WEEK_DIR/q4.sql"
   ]
  },
  {
   "cell_type": "code",
   "execution_count": null,
   "metadata": {},
   "outputs": [],
   "source": [
    "db.query(\n",
    "    \"\"\"\n",
    "    SELECT product_id, COUNT(product_id) as n_purchase\n",
    "    FROM sales\n",
    "    GROUP BY\n",
    "        product_id\n",
    "    ORDER BY n_purchase DESC\n",
    "\"\"\"\n",
    ").df()"
   ]
  },
  {
   "cell_type": "markdown",
   "metadata": {},
   "source": [
    "##### 5. Which item was the most popular for each customer?"
   ]
  },
  {
   "cell_type": "code",
   "execution_count": null,
   "metadata": {},
   "outputs": [],
   "source": [
    "!cat $WEEK_DIR/q5.sql"
   ]
  },
  {
   "cell_type": "code",
   "execution_count": null,
   "metadata": {},
   "outputs": [],
   "source": [
    "db.query(\n",
    "    \"\"\"\n",
    "    SELECT customer_id, product_id, COUNT(product_id) as n_purchase\n",
    "    FROM sales\n",
    "    GROUP BY\n",
    "        customer_id,\n",
    "        product_id\n",
    "    ORDER BY n_purchase DESC\n",
    "\"\"\"\n",
    ").df()"
   ]
  },
  {
   "cell_type": "markdown",
   "metadata": {},
   "source": [
    "##### 6. Which item was purchased first by the customer after they became a member?"
   ]
  },
  {
   "cell_type": "code",
   "execution_count": null,
   "metadata": {},
   "outputs": [],
   "source": [
    "!cat $WEEK_DIR/q6.sql"
   ]
  },
  {
   "cell_type": "code",
   "execution_count": null,
   "metadata": {},
   "outputs": [],
   "source": [
    "db.query(\n",
    "    \"\"\"\n",
    "    SELECT *\n",
    "    FROM sales\n",
    "        JOIN members on sales.customer_id = members.customer_id\n",
    "    WHERE\n",
    "        sales.customer_id = 'A'\n",
    "        AND order_date >= join_date\n",
    "    ORDER BY order_date\n",
    "    LIMIT 1;\n",
    "\"\"\"\n",
    ").df()"
   ]
  },
  {
   "cell_type": "code",
   "execution_count": null,
   "metadata": {},
   "outputs": [],
   "source": [
    "db.query(\n",
    "    \"\"\"\n",
    "    SELECT *\n",
    "    FROM sales\n",
    "        JOIN members on sales.customer_id = members.customer_id\n",
    "    WHERE\n",
    "        sales.customer_id = 'B'\n",
    "        AND order_date >= join_date\n",
    "    ORDER BY order_date\n",
    "    LIMIT 1;   \n",
    "\"\"\"\n",
    ").df()"
   ]
  },
  {
   "cell_type": "markdown",
   "metadata": {},
   "source": [
    "##### 7. Which item was purchased just before the customer became a member?"
   ]
  },
  {
   "cell_type": "code",
   "execution_count": null,
   "metadata": {},
   "outputs": [],
   "source": [
    "!cat $WEEK_DIR/q7.sql"
   ]
  },
  {
   "cell_type": "code",
   "execution_count": null,
   "metadata": {},
   "outputs": [],
   "source": [
    "db.query(\n",
    "    \"\"\"\n",
    "    SELECT *\n",
    "    FROM sales\n",
    "        JOIN members on sales.customer_id = members.customer_id\n",
    "    WHERE\n",
    "        sales.customer_id = 'A'\n",
    "        AND order_date < join_date\n",
    "    ORDER BY order_date\n",
    "    LIMIT 1\n",
    "\"\"\"\n",
    ").df()"
   ]
  },
  {
   "cell_type": "code",
   "execution_count": null,
   "metadata": {},
   "outputs": [],
   "source": [
    "db.query(\n",
    "    \"\"\"\n",
    "    SELECT * FROM sales \n",
    "         JOIN members on sales.customer_id = members.customer_id \n",
    "         WHERE sales.customer_id = 'B' AND order_date < join_date \n",
    "         ORDER BY order_date LIMIT 1\n",
    "\"\"\"\n",
    ").df()"
   ]
  },
  {
   "cell_type": "markdown",
   "metadata": {},
   "source": [
    "##### 8. What is the total items and amount spent for each member before they became a member?"
   ]
  },
  {
   "cell_type": "code",
   "execution_count": null,
   "metadata": {},
   "outputs": [],
   "source": [
    "!cat $WEEK_DIR/q8.sql"
   ]
  },
  {
   "cell_type": "code",
   "execution_count": null,
   "metadata": {},
   "outputs": [],
   "source": [
    "db.query(\n",
    "    \"\"\"\n",
    "    SELECT count(*)\n",
    "    FROM sales\n",
    "        JOIN members on sales.customer_id = members.customer_id\n",
    "    WHERE\n",
    "        sales.customer_id = 'A'\n",
    "        AND order_date < join_date\n",
    "    \"\"\"\n",
    ")"
   ]
  },
  {
   "cell_type": "code",
   "execution_count": null,
   "metadata": {},
   "outputs": [],
   "source": [
    "# need to join menu table for this"
   ]
  },
  {
   "cell_type": "code",
   "execution_count": null,
   "metadata": {},
   "outputs": [],
   "source": [
    "db.query(\n",
    "    \"\"\"\n",
    "    SELECT SUM(price) FROM sales \n",
    "        JOIN members on sales.customer_id = members.customer_id \n",
    "        JOIN menu on menu.product_id = sales.product_id\n",
    "        WHERE sales.customer_id = 'A' AND order_date < join_date\n",
    "    \"\"\"\n",
    ")"
   ]
  },
  {
   "cell_type": "code",
   "execution_count": null,
   "metadata": {},
   "outputs": [],
   "source": [
    "db.query(\n",
    "    \"\"\"\n",
    "    SELECT count(*) FROM sales \n",
    "        JOIN members on sales.customer_id = members.customer_id\n",
    "        WHERE sales.customer_id = 'B' AND order_date < join_date\n",
    "    \"\"\"\n",
    ")"
   ]
  },
  {
   "cell_type": "code",
   "execution_count": null,
   "metadata": {},
   "outputs": [],
   "source": [
    "db.query(\n",
    "    \"\"\"\n",
    "    SELECT SUM(price) FROM sales \n",
    "    JOIN members on sales.customer_id = members.customer_id \n",
    "    JOIN menu on menu.product_id = sales.product_id \n",
    "    WHERE sales.customer_id = 'B' AND order_date < join_date\n",
    "    \"\"\"\n",
    ")"
   ]
  },
  {
   "cell_type": "markdown",
   "metadata": {},
   "source": [
    "##### 9. If each $1 spent equates to 10 points and sushi has a 2x points multiplier - how many points would each customer have?\n"
   ]
  },
  {
   "cell_type": "code",
   "execution_count": null,
   "metadata": {},
   "outputs": [],
   "source": [
    "# TODO"
   ]
  },
  {
   "cell_type": "markdown",
   "metadata": {},
   "source": [
    "##### 10. If each $1 spent equates to 10 points and sushi has a 2x points multiplier - how many points would each customer have?"
   ]
  },
  {
   "cell_type": "code",
   "execution_count": null,
   "metadata": {},
   "outputs": [],
   "source": [
    "# TODO"
   ]
  },
  {
   "cell_type": "markdown",
   "metadata": {},
   "source": [
    "11. In the first week after a customer joins the program (including their join date) they earn 2x points on all items, not just sushi - how many points do customer A and B have at the end of January?"
   ]
  },
  {
   "cell_type": "code",
   "execution_count": null,
   "metadata": {},
   "outputs": [],
   "source": [
    "# TODO"
   ]
  },
  {
   "cell_type": "markdown",
   "metadata": {},
   "source": [
    "### Appendix\n",
    "\n",
    "#### `DuckDB` special PRAGMA table info commands\n",
    "\n",
    "```\n",
    "PRAGMA table_info('table_name');\n",
    "CALL pragma_table_info('table_name'); same info as show_tables_expanded I think\n",
    "cid INTEGER,        -- cid of the column\n",
    "name VARCHAR,       -- name of the column\n",
    "type VARCHAR,       -- type of the column\n",
    "notnull BOOLEAN,    -- if the column is marked as NOT NULL\n",
    "dflt_value VARCHAR, -- default value of the column, or NULL if not specified\n",
    "pk BOOLEAN          -- part of the primary key or not\n",
    "\n",
    "SET database_size;   database size info\n",
    "CALL pragma_database_size();\n",
    "\n",
    "PRAGMA storage_info('table_name');  technical table size etc info\n",
    "CALL pragma_storage_info('table_name');\n",
    "\n",
    "PRAGMA show_databases; get database names\n",
    "\n",
    "PRAGMA version; DuckDB version info\n",
    "CALL pragma_version();\n",
    "PRAGMA user_agent;\n",
    "```"
   ]
  },
  {
   "cell_type": "markdown",
   "metadata": {},
   "source": []
  }
 ],
 "metadata": {
  "kernelspec": {
   "display_name": ".venv",
   "language": "python",
   "name": "python3"
  },
  "language_info": {
   "codemirror_mode": {
    "name": "ipython",
    "version": 3
   },
   "file_extension": ".py",
   "mimetype": "text/x-python",
   "name": "python",
   "nbconvert_exporter": "python",
   "pygments_lexer": "ipython3",
   "version": "3.11.7"
  }
 },
 "nbformat": 4,
 "nbformat_minor": 2
}

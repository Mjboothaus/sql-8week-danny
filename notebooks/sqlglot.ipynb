{
 "cells": [
  {
   "cell_type": "code",
   "execution_count": null,
   "metadata": {},
   "outputs": [],
   "source": [
    "import sqlglot\n",
    "from IPython.display import display, Markdown"
   ]
  },
  {
   "cell_type": "code",
   "execution_count": null,
   "metadata": {},
   "outputs": [],
   "source": [
    "import sys\n",
    "from IPython.display import display, Markdown\n",
    "\n",
    "def display_ansi_formatted_text(ansi_text, html_font_size=\"30\"):\n",
    "    if 'ipykernel' in sys.modules:\n",
    "        md_text = ansi_text.replace(\"\\x1b[4m\", \"**\").replace(\"\\x1b[0m\", \"**\")\n",
    "        display(Markdown(md_text))\n",
    "    else:\n",
    "        # Directly print the ANSI text in console environments\n",
    "        print(ansi_text)\n",
    "\n",
    "# Example usage with a string from sqlglot\n",
    "ansi_string = \"SELECT baz FROM \\x1b[4mt\\x1b[0m\"\n",
    "display_ansi_formatted_text(ansi_string)\n"
   ]
  },
  {
   "cell_type": "code",
   "execution_count": null,
   "metadata": {},
   "outputs": [],
   "source": [
    "def clean_sql_simple(sql):\n",
    "    return sqlglot.transpile(sql, read=\"duckdb\", write=\"duckdb\")[0]"
   ]
  },
  {
   "cell_type": "code",
   "execution_count": null,
   "metadata": {},
   "outputs": [],
   "source": [
    "def check_sql(sql):\n",
    "    try:\n",
    "        return sqlglot.transpile(sql, read=\"duckdb\", write=\"duckdb\")[0]\n",
    "    except sqlglot.errors.ParseError as e:\n",
    "        print(f\"SQL ERROR: {e.errors[0]['description']}\\nQuery: '{sql[:e.errors[0]['col']]}'\")\n",
    "        #print(e.errors)\n",
    "        return None"
   ]
  },
  {
   "cell_type": "code",
   "execution_count": null,
   "metadata": {},
   "outputs": [],
   "source": [
    "test_sql_with_error = \"SELECT foo FROM (SELECT baz FROM t\""
   ]
  },
  {
   "cell_type": "code",
   "execution_count": null,
   "metadata": {},
   "outputs": [],
   "source": [
    "check_sql(test_sql_with_error)"
   ]
  },
  {
   "cell_type": "code",
   "execution_count": null,
   "metadata": {},
   "outputs": [],
   "source": [
    "formatting_sql = \"selECT   * from Tablename\""
   ]
  },
  {
   "cell_type": "code",
   "execution_count": null,
   "metadata": {},
   "outputs": [],
   "source": [
    "check_sql(formatting_sql)"
   ]
  },
  {
   "cell_type": "code",
   "execution_count": null,
   "metadata": {},
   "outputs": [],
   "source": [
    "def validate_sql(sql):\n",
    "    try:\n",
    "        expressions = sqlglot.parse(sql, dialect=\"duckdb\")\n",
    "        print(f\"Expressions: {expressions}\")\n",
    "        if len(expressions) > 1:\n",
    "            raise ValueError(\"Only one statement is allowed\")\n",
    "        disallowed_keywords = [\n",
    "            \"INSERT\",\n",
    "            \"UPDATE\",\n",
    "            \"DELETE\",\n",
    "            \"DROP\",\n",
    "            \"EXEC\",\n",
    "            \"CALL\",\n",
    "            \"ALTER\",\n",
    "            \"GRANT\",\n",
    "        ]\n",
    "        for expression in expressions:\n",
    "            if any(token in expression.sql().upper() for token in disallowed_keywords):\n",
    "                raise ValueError(\"Disallowed SQL keywords detected\")\n",
    "        return True, \"Query is valid\"\n",
    "    except Exception as e:\n",
    "        return False, str(e)"
   ]
  },
  {
   "cell_type": "code",
   "execution_count": null,
   "metadata": {},
   "outputs": [],
   "source": [
    "validate_sql(formatting_sql)"
   ]
  },
  {
   "cell_type": "code",
   "execution_count": null,
   "metadata": {},
   "outputs": [],
   "source": [
    "validate_sql(test_sql_with_error)"
   ]
  },
  {
   "cell_type": "code",
   "execution_count": null,
   "metadata": {},
   "outputs": [],
   "source": [
    "def check_and_validate_sql(sql):\n",
    "    validate = validate_sql(sql)\n",
    "    if validate[0]:\n",
    "        return check_sql(sql)\n",
    "    else:\n",
    "        return display_ansi_formatted_text(f\"#### ERROR: {validate[1]}\")\n",
    "        #return check_sql(sql)"
   ]
  },
  {
   "cell_type": "code",
   "execution_count": null,
   "metadata": {},
   "outputs": [],
   "source": [
    "check_and_validate_sql(formatting_sql)"
   ]
  },
  {
   "cell_type": "code",
   "execution_count": null,
   "metadata": {},
   "outputs": [],
   "source": [
    "check_and_validate_sql(test_sql_with_error)"
   ]
  },
  {
   "cell_type": "code",
   "execution_count": null,
   "metadata": {},
   "outputs": [],
   "source": [
    "import tomllib\n",
    "from pathlib import Path\n",
    "from loguru import logger\n",
    "\n",
    "def read_config(parent_dir=0):\n",
    "    config_toml = Path.cwd().parents[parent_dir] / \"app\" / \"app.toml\"\n",
    "    if not config_toml.exists():\n",
    "        logger.error(f\"File Not Found - {str(config_toml)}\")\n",
    "        raise FileNotFoundError(f\"{str(config_toml)}\")\n",
    "    with open(config_toml, 'rb') as f:\n",
    "        logger.info(f\"Config loaded from {str(config_toml)}\")\n",
    "        return tomllib.load(f)\n"
   ]
  },
  {
   "cell_type": "code",
   "execution_count": null,
   "metadata": {},
   "outputs": [],
   "source": [
    "config = read_config()"
   ]
  },
  {
   "cell_type": "code",
   "execution_count": null,
   "metadata": {},
   "outputs": [],
   "source": [
    "config['app']"
   ]
  },
  {
   "cell_type": "code",
   "execution_count": null,
   "metadata": {},
   "outputs": [],
   "source": [
    "config['sql']['disallowed_keywords']"
   ]
  },
  {
   "cell_type": "code",
   "execution_count": null,
   "metadata": {},
   "outputs": [],
   "source": []
  }
 ],
 "metadata": {
  "kernelspec": {
   "display_name": ".venv",
   "language": "python",
   "name": "python3"
  },
  "language_info": {
   "codemirror_mode": {
    "name": "ipython",
    "version": 3
   },
   "file_extension": ".py",
   "mimetype": "text/x-python",
   "name": "python",
   "nbconvert_exporter": "python",
   "pygments_lexer": "ipython3",
   "version": "3.11.7"
  }
 },
 "nbformat": 4,
 "nbformat_minor": 2
}

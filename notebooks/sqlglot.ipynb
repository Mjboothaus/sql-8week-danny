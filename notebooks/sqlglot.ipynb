{
 "cells": [
  {
   "cell_type": "code",
   "execution_count": 47,
   "metadata": {},
   "outputs": [],
   "source": [
    "import sqlglot\n",
    "from IPython.display import display, Markdown"
   ]
  },
  {
   "cell_type": "code",
   "execution_count": 66,
   "metadata": {},
   "outputs": [
    {
     "data": {
      "text/markdown": [
       "SELECT baz FROM **t**"
      ],
      "text/plain": [
       "<IPython.core.display.Markdown object>"
      ]
     },
     "metadata": {},
     "output_type": "display_data"
    }
   ],
   "source": [
    "import sys\n",
    "from IPython.display import display, Markdown\n",
    "\n",
    "def display_ansi_formatted_text(ansi_text, html_font_size=\"30\"):\n",
    "    if 'ipykernel' in sys.modules:\n",
    "        md_text = ansi_text.replace(\"\\x1b[4m\", \"**\").replace(\"\\x1b[0m\", \"**\")\n",
    "        display(Markdown(md_text))\n",
    "    else:\n",
    "        # Directly print the ANSI text in console environments\n",
    "        print(ansi_text)\n",
    "\n",
    "# Example usage with a string from sqlglot\n",
    "ansi_string = \"SELECT baz FROM \\x1b[4mt\\x1b[0m\"\n",
    "display_ansi_formatted_text(ansi_string)\n"
   ]
  },
  {
   "cell_type": "code",
   "execution_count": 48,
   "metadata": {},
   "outputs": [],
   "source": [
    "def clean_sql_simple(sql):\n",
    "    return sqlglot.transpile(sql, read=\"duckdb\", write=\"duckdb\")[0]"
   ]
  },
  {
   "cell_type": "code",
   "execution_count": 49,
   "metadata": {},
   "outputs": [],
   "source": [
    "def check_sql(sql):\n",
    "    try:\n",
    "        return sqlglot.transpile(sql, read=\"duckdb\", write=\"duckdb\")[0]\n",
    "    except sqlglot.errors.ParseError as e:\n",
    "        print(f\"SQL ERROR: {e.errors[0]['description']}\\nQuery: '{sql[:e.errors[0]['col']]}'\")\n",
    "        #print(e.errors)\n",
    "        return None"
   ]
  },
  {
   "cell_type": "code",
   "execution_count": 50,
   "metadata": {},
   "outputs": [],
   "source": [
    "test_sql_with_error = \"SELECT foo FROM (SELECT baz FROM t\""
   ]
  },
  {
   "cell_type": "code",
   "execution_count": 51,
   "metadata": {},
   "outputs": [
    {
     "name": "stdout",
     "output_type": "stream",
     "text": [
      "SQL ERROR: Expecting )\n",
      "Query: 'SELECT foo FROM (SELECT baz FROM t'\n"
     ]
    }
   ],
   "source": [
    "check_sql(test_sql_with_error)"
   ]
  },
  {
   "cell_type": "code",
   "execution_count": 52,
   "metadata": {},
   "outputs": [],
   "source": [
    "formatting_sql = \"selECT   * from Tablename\""
   ]
  },
  {
   "cell_type": "code",
   "execution_count": 53,
   "metadata": {},
   "outputs": [
    {
     "data": {
      "text/plain": [
       "'SELECT * FROM Tablename'"
      ]
     },
     "execution_count": 53,
     "metadata": {},
     "output_type": "execute_result"
    }
   ],
   "source": [
    "check_sql(formatting_sql)"
   ]
  },
  {
   "cell_type": "code",
   "execution_count": 54,
   "metadata": {},
   "outputs": [],
   "source": [
    "def validate_sql(sql):\n",
    "    try:\n",
    "        expressions = sqlglot.parse(sql, dialect=\"duckdb\")\n",
    "        print(f\"Expressions: {expressions}\")\n",
    "        if len(expressions) > 1:\n",
    "            raise ValueError(\"Only one statement is allowed\")\n",
    "        disallowed_keywords = [\n",
    "            \"INSERT\",\n",
    "            \"UPDATE\",\n",
    "            \"DELETE\",\n",
    "            \"DROP\",\n",
    "            \"EXEC\",\n",
    "            \"CALL\",\n",
    "            \"ALTER\",\n",
    "            \"GRANT\",\n",
    "        ]\n",
    "        for expression in expressions:\n",
    "            if any(token in expression.sql().upper() for token in disallowed_keywords):\n",
    "                raise ValueError(\"Disallowed SQL keywords detected\")\n",
    "        return True, \"Query is valid\"\n",
    "    except Exception as e:\n",
    "        return False, str(e)"
   ]
  },
  {
   "cell_type": "code",
   "execution_count": 55,
   "metadata": {},
   "outputs": [
    {
     "name": "stdout",
     "output_type": "stream",
     "text": [
      "Expressions: [Select(\n",
      "  expressions=[\n",
      "    Star()],\n",
      "  from=From(\n",
      "    this=Table(\n",
      "      this=Identifier(this=Tablename, quoted=False))))]\n"
     ]
    },
    {
     "data": {
      "text/plain": [
       "(True, 'Query is valid')"
      ]
     },
     "execution_count": 55,
     "metadata": {},
     "output_type": "execute_result"
    }
   ],
   "source": [
    "validate_sql(formatting_sql)"
   ]
  },
  {
   "cell_type": "code",
   "execution_count": 56,
   "metadata": {},
   "outputs": [
    {
     "data": {
      "text/plain": [
       "(False,\n",
       " 'Expecting ). Line 1, Col: 34.\\n  SELECT foo FROM (SELECT baz FROM \\x1b[4mt\\x1b[0m')"
      ]
     },
     "execution_count": 56,
     "metadata": {},
     "output_type": "execute_result"
    }
   ],
   "source": [
    "validate_sql(test_sql_with_error)"
   ]
  },
  {
   "cell_type": "code",
   "execution_count": 71,
   "metadata": {},
   "outputs": [],
   "source": [
    "def check_and_validate_sql(sql):\n",
    "    validate = validate_sql(sql)\n",
    "    if validate[0]:\n",
    "        return check_sql(sql)\n",
    "    else:\n",
    "        return display_ansi_formatted_text(f\"#### ERROR: {validate[1]}\")\n",
    "        #return check_sql(sql)"
   ]
  },
  {
   "cell_type": "code",
   "execution_count": 72,
   "metadata": {},
   "outputs": [
    {
     "name": "stdout",
     "output_type": "stream",
     "text": [
      "Expressions: [Select(\n",
      "  expressions=[\n",
      "    Star()],\n",
      "  from=From(\n",
      "    this=Table(\n",
      "      this=Identifier(this=Tablename, quoted=False))))]\n"
     ]
    },
    {
     "data": {
      "text/plain": [
       "'SELECT * FROM Tablename'"
      ]
     },
     "execution_count": 72,
     "metadata": {},
     "output_type": "execute_result"
    }
   ],
   "source": [
    "check_and_validate_sql(formatting_sql)"
   ]
  },
  {
   "cell_type": "code",
   "execution_count": 73,
   "metadata": {},
   "outputs": [
    {
     "data": {
      "text/markdown": [
       "#### ERROR: Expecting ). Line 1, Col: 34.\n",
       "  SELECT foo FROM (SELECT baz FROM **t**"
      ],
      "text/plain": [
       "<IPython.core.display.Markdown object>"
      ]
     },
     "metadata": {},
     "output_type": "display_data"
    }
   ],
   "source": [
    "check_and_validate_sql(test_sql_with_error)"
   ]
  },
  {
   "cell_type": "code",
   "execution_count": 102,
   "metadata": {},
   "outputs": [],
   "source": [
    "import tomllib\n",
    "from pathlib import Path\n",
    "from loguru import logger\n",
    "\n",
    "def read_config(parent_dir=0):\n",
    "    config_toml = Path.cwd().parents[parent_dir] / \"app\" / \"app.toml\"\n",
    "    if not config_toml.exists():\n",
    "        logger.error(f\"File Not Found - {str(config_toml)}\")\n",
    "        raise FileNotFoundError(f\"{str(config_toml)}\")\n",
    "    with open(config_toml, 'rb') as f:\n",
    "        logger.info(f\"Config loaded from {str(config_toml)}\")\n",
    "        return tomllib.load(f)\n"
   ]
  },
  {
   "cell_type": "code",
   "execution_count": 104,
   "metadata": {},
   "outputs": [
    {
     "name": "stderr",
     "output_type": "stream",
     "text": [
      "\u001b[32m2024-04-22 15:04:28.534\u001b[0m | \u001b[1mINFO    \u001b[0m | \u001b[36m__main__\u001b[0m:\u001b[36mread_config\u001b[0m:\u001b[36m11\u001b[0m - \u001b[1mConfig loaded from /Users/mjboothaus/code/github/mjboothaus/sql-8week-danny/app/app.toml\u001b[0m\n"
     ]
    }
   ],
   "source": [
    "config = read_config()"
   ]
  },
  {
   "cell_type": "code",
   "execution_count": 98,
   "metadata": {},
   "outputs": [
    {
     "data": {
      "text/plain": [
       "{'title': 'Data with Danny - Week 1',\n",
       " 'create_sql': 'week1.sql',\n",
       " 'prompt_name': 'User',\n",
       " 'response_name': 'Result',\n",
       " 'tabs': ['Query', 'SQL', 'Scehma']}"
      ]
     },
     "execution_count": 98,
     "metadata": {},
     "output_type": "execute_result"
    }
   ],
   "source": [
    "config['app']"
   ]
  },
  {
   "cell_type": "code",
   "execution_count": 87,
   "metadata": {},
   "outputs": [
    {
     "data": {
      "text/plain": [
       "['ALTER', 'CALL', 'DELETE', 'DROP', 'EXEC', 'GRANT', 'INSERT', 'UPDATE']"
      ]
     },
     "execution_count": 87,
     "metadata": {},
     "output_type": "execute_result"
    }
   ],
   "source": [
    "config['sql']['disallowed_keywords']"
   ]
  },
  {
   "cell_type": "code",
   "execution_count": null,
   "metadata": {},
   "outputs": [],
   "source": []
  }
 ],
 "metadata": {
  "kernelspec": {
   "display_name": ".venv",
   "language": "python",
   "name": "python3"
  },
  "language_info": {
   "codemirror_mode": {
    "name": "ipython",
    "version": 3
   },
   "file_extension": ".py",
   "mimetype": "text/x-python",
   "name": "python",
   "nbconvert_exporter": "python",
   "pygments_lexer": "ipython3",
   "version": "3.11.7"
  }
 },
 "nbformat": 4,
 "nbformat_minor": 2
}

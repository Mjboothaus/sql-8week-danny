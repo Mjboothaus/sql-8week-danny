{
 "cells": [
  {
   "cell_type": "code",
   "execution_count": null,
   "metadata": {},
   "outputs": [],
   "source": [
    "from sql_8week_danny.sql_engine import DuckDBEngine"
   ]
  },
  {
   "cell_type": "code",
   "execution_count": null,
   "metadata": {},
   "outputs": [],
   "source": [
    "duck = DuckDBEngine()"
   ]
  },
  {
   "cell_type": "code",
   "execution_count": null,
   "metadata": {},
   "outputs": [],
   "source": [
    "duck.query(\"INSTALL postgres;\")"
   ]
  },
  {
   "cell_type": "code",
   "execution_count": null,
   "metadata": {},
   "outputs": [],
   "source": [
    "duck.query(\"LOAD postgres;\")"
   ]
  },
  {
   "cell_type": "code",
   "execution_count": null,
   "metadata": {},
   "outputs": [],
   "source": [
    "# name: psql\n",
    "# driver: postgres\n",
    "# host: db\n",
    "# username: postgres\n",
    "# multiStatementTransactionEnabled: \"true\"\n",
    "# idleTimeoutSeconds: 86400\n",
    "\n",
    "import os\n",
    "\n",
    "# os.environ[\"PGPASSWORD\"] = \"secret\"\n",
    "os.environ[\"PGHOST\"] = \"db\"\n",
    "os.environ[\"PGUSER\"] = \"postgres\"\n",
    "os.environ[\"PGDATABASE\"] = \"psql\"\n",
    "os.environ[\"POSTGRES_HOST_AUTH_METHOD\"] = \"trust\"\n",
    "os.environ[\"PGHOST\"] = \"datawithdan-serioussqle-fhhkj87m5bt.ws-us110.gitpod.io\"\n",
    "os.environ[\"PGPORT\"] = \"5432\"\n",
    "\n",
    "# c.f. https://duckdb.org/docs/extensions/postgres.html"
   ]
  },
  {
   "cell_type": "code",
   "execution_count": null,
   "metadata": {},
   "outputs": [],
   "source": [
    "duck.query(\"ATTACH '' AS p (TYPE POSTGRES);\")"
   ]
  },
  {
   "cell_type": "code",
   "execution_count": null,
   "metadata": {},
   "outputs": [],
   "source": [
    "duck.query(\"SHOW ALL TABLES;\")"
   ]
  },
  {
   "cell_type": "code",
   "execution_count": null,
   "metadata": {},
   "outputs": [],
   "source": []
  }
 ],
 "metadata": {
  "kernelspec": {
   "display_name": ".venv",
   "language": "python",
   "name": "python3"
  },
  "language_info": {
   "codemirror_mode": {
    "name": "ipython",
    "version": 3
   },
   "file_extension": ".py",
   "mimetype": "text/x-python",
   "name": "python",
   "nbconvert_exporter": "python",
   "pygments_lexer": "ipython3",
   "version": "3.11.7"
  }
 },
 "nbformat": 4,
 "nbformat_minor": 2
}
